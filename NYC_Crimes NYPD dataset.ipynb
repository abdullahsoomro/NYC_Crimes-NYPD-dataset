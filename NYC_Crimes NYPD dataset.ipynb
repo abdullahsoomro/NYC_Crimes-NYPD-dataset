{
  "nbformat": 4,
  "nbformat_minor": 0,
  "metadata": {
    "kernelspec": {
      "display_name": "Python 3",
      "language": "python",
      "name": "python3"
    },
    "language_info": {
      "codemirror_mode": {
        "name": "ipython",
        "version": 3
      },
      "file_extension": ".py",
      "mimetype": "text/x-python",
      "name": "python",
      "nbconvert_exporter": "python",
      "pygments_lexer": "ipython3",
      "version": "3.6.5"
    },
    "colab": {
      "name": "NYC_Crimes.ipynb",
      "provenance": []
    }
  },
  "cells": [
    {
      "cell_type": "markdown",
      "metadata": {
        "id": "6OWs8-UV3yLW"
      },
      "source": [
        "<img src=\"new-york-1590175_640.jpg\">"
      ]
    },
    {
      "cell_type": "markdown",
      "metadata": {
        "id": "oUYvlm1z3yLY"
      },
      "source": [
        "# Crimes of New York: A Comprehensive Study of Reported Crimes"
      ]
    },
    {
      "cell_type": "markdown",
      "metadata": {
        "id": "5t_xxjRM3yLa"
      },
      "source": [
        "1. **Introduction**\n",
        "    1. Problem Statement\n",
        "    1. Overview of Analysis\n",
        "    1. Information about Dataset\n",
        "1. **Data Preparation**\n",
        "    1. Data Wrangling\n",
        "    1. Data Description\n",
        "    1. Feature Engineering\n",
        "1. **Exploratory Data Analysis**\n",
        "    1. Data Exploration\n",
        "    1. Insights\n",
        "1. **Model Exploration**\n",
        "    1. Model Selection\n",
        "    1. Preparing data for training\n",
        "    1. Neural Network"
      ]
    },
    {
      "cell_type": "markdown",
      "metadata": {
        "id": "QvjQCpek3yLc"
      },
      "source": [
        "## 1. Introduction\n",
        "\n",
        "### 1.1 Problem Statement\n",
        "New York City has a population of 8.5 million people. Once known as the \"murder capital\", NYC crime, especially murder rates, has decreased in that last two decades. However, crime has not stopped, so it's important to know when, where, and what crimes are taking place. It is especially important to know what kind of crimes happen where. Thus, we're going to embark on an exploratory data analysis of crime complaints in NYC and make predictions about crimes in Brooklyn.\n",
        "\n",
        "### 1.2 Overview of Analysis\n",
        "In this notebook, we will examine and analyze crime complaints in New York City. We will start off by data munging and feature engineering. Then perform data visualization to get a better understanding of the data. Finally, we will perform predictive modeling to make predictions about future events based on the current data. In doing so, we will answer questions such as:\n",
        "1. What kinds of crimes are most prevalent in NYC? Brooklyn?\n",
        "1. Where does crime take place?\n",
        "1. Are there certain times when crime is more likely to occur? If so, when?\n",
        "1. What are the most common crimes?\n",
        "1. Can we predict where and when a crime will occur?\n",
        "1. Can we predict who is mostly likely to be a victim of a crime?\n",
        "\n",
        "### 1.3 Information about Dataset\n",
        "The data set used in this notebook is from the [NYC Open Data Portal]( https://data.cityofnewyork.us/Public-Safety/NYPD-Complaint-Data-Current-YTD/5uac-w243), recording all felony, misdemeanor and violation crimes reported as of summer of 2018. Explanations of the features referenced in this notebooks can be obtained through the provided link."
      ]
    },
    {
      "cell_type": "markdown",
      "metadata": {
        "id": "c1OlgVT53yLd"
      },
      "source": [
        "## 2. Data Preparation\n",
        "\n",
        "### 2.1 Data Wrangling\n",
        "\n",
        "We'll start our data preparation by importing useful libraries and retrieving our data. "
      ]
    },
    {
      "cell_type": "code",
      "metadata": {
        "id": "locx5v643yLe"
      },
      "source": [
        "# Suppress possible warnings\n",
        "import warnings\n",
        "warnings.filterwarnings('ignore')"
      ],
      "execution_count": null,
      "outputs": []
    },
    {
      "cell_type": "code",
      "metadata": {
        "id": "AWFwJvjW3yLg"
      },
      "source": [
        "#import plotly.plotly as py\n",
        "#import plotly.graph_objs as go \n",
        "#from plotly.offline import download_plotlyjs, init_notebook_mode, plot, iplot"
      ],
      "execution_count": null,
      "outputs": []
    },
    {
      "cell_type": "code",
      "metadata": {
        "id": "Yf75k1-j3yLi"
      },
      "source": [
        "# Libraries for data analysis and visualization\n",
        "import numpy as np\n",
        "import pandas as pd\n",
        "import seaborn as sns\n",
        "import matplotlib.pyplot as plt\n",
        "%matplotlib inline"
      ],
      "execution_count": null,
      "outputs": []
    },
    {
      "cell_type": "code",
      "metadata": {
        "id": "z4zSVIpf3yLj"
      },
      "source": [
        "import tensorflow as tf\n",
        "from tensorflow import keras"
      ],
      "execution_count": null,
      "outputs": []
    },
    {
      "cell_type": "code",
      "metadata": {
        "id": "AjfiVv-P3yLl"
      },
      "source": [
        "#import cufflinks as cf\n",
        "#cf.go_offline()"
      ],
      "execution_count": null,
      "outputs": []
    },
    {
      "cell_type": "code",
      "metadata": {
        "id": "jUU_rAin3yLl"
      },
      "source": [
        "#init_notebook_mode(connected=True) "
      ],
      "execution_count": null,
      "outputs": []
    },
    {
      "cell_type": "markdown",
      "metadata": {
        "id": "RP3mpp3t3yLm"
      },
      "source": [
        "#### Import dataset"
      ]
    },
    {
      "cell_type": "code",
      "metadata": {
        "id": "QV7xF-9Y3yLm"
      },
      "source": [
        "# Original dataset\n",
        "orig = pd.read_csv('NYPD_Complaint_Data_Current_YTD.csv')\n",
        "\n",
        "# Copy of dataset we'll modify\n",
        "data = pd.read_csv('NYPD_Complaint_Data_Current_YTD.csv')"
      ],
      "execution_count": null,
      "outputs": []
    },
    {
      "cell_type": "markdown",
      "metadata": {
        "id": "zF2qX3BQ3yLn"
      },
      "source": [
        "### 2.2 Data Description"
      ]
    },
    {
      "cell_type": "markdown",
      "metadata": {
        "id": "KuUjREfU3yLo"
      },
      "source": [
        "We'll start examining our data by looking at the features."
      ]
    },
    {
      "cell_type": "code",
      "metadata": {
        "id": "_EtR6UbQ3yLo",
        "outputId": "b027efe5-3250-4380-d316-77907030c987"
      },
      "source": [
        "data.head()"
      ],
      "execution_count": null,
      "outputs": [
        {
          "output_type": "execute_result",
          "data": {
            "text/html": [
              "<div>\n",
              "<style scoped>\n",
              "    .dataframe tbody tr th:only-of-type {\n",
              "        vertical-align: middle;\n",
              "    }\n",
              "\n",
              "    .dataframe tbody tr th {\n",
              "        vertical-align: top;\n",
              "    }\n",
              "\n",
              "    .dataframe thead th {\n",
              "        text-align: right;\n",
              "    }\n",
              "</style>\n",
              "<table border=\"1\" class=\"dataframe\">\n",
              "  <thead>\n",
              "    <tr style=\"text-align: right;\">\n",
              "      <th></th>\n",
              "      <th>CMPLNT_NUM</th>\n",
              "      <th>ADDR_PCT_CD</th>\n",
              "      <th>BORO_NM</th>\n",
              "      <th>CMPLNT_FR_DT</th>\n",
              "      <th>CMPLNT_FR_TM</th>\n",
              "      <th>CMPLNT_TO_DT</th>\n",
              "      <th>CMPLNT_TO_TM</th>\n",
              "      <th>CRM_ATPT_CPTD_CD</th>\n",
              "      <th>HADEVELOPT</th>\n",
              "      <th>HOUSING_PSA</th>\n",
              "      <th>...</th>\n",
              "      <th>SUSP_SEX</th>\n",
              "      <th>TRANSIT_DISTRICT</th>\n",
              "      <th>VIC_AGE_GROUP</th>\n",
              "      <th>VIC_RACE</th>\n",
              "      <th>VIC_SEX</th>\n",
              "      <th>X_COORD_CD</th>\n",
              "      <th>Y_COORD_CD</th>\n",
              "      <th>Latitude</th>\n",
              "      <th>Longitude</th>\n",
              "      <th>Lat_Lon</th>\n",
              "    </tr>\n",
              "  </thead>\n",
              "  <tbody>\n",
              "    <tr>\n",
              "      <th>0</th>\n",
              "      <td>831526991</td>\n",
              "      <td>67</td>\n",
              "      <td>BROOKLYN</td>\n",
              "      <td>03/31/2018</td>\n",
              "      <td>23:30:00</td>\n",
              "      <td>03/31/2018</td>\n",
              "      <td>23:37:00</td>\n",
              "      <td>COMPLETED</td>\n",
              "      <td>NaN</td>\n",
              "      <td>NaN</td>\n",
              "      <td>...</td>\n",
              "      <td>NaN</td>\n",
              "      <td>NaN</td>\n",
              "      <td>UNKNOWN</td>\n",
              "      <td>UNKNOWN</td>\n",
              "      <td>E</td>\n",
              "      <td>1003227.0</td>\n",
              "      <td>177460.0</td>\n",
              "      <td>40.653751</td>\n",
              "      <td>-73.931609</td>\n",
              "      <td>(40.653751263, -73.931609227)</td>\n",
              "    </tr>\n",
              "    <tr>\n",
              "      <th>1</th>\n",
              "      <td>496736340</td>\n",
              "      <td>120</td>\n",
              "      <td>STATEN ISLAND</td>\n",
              "      <td>03/31/2018</td>\n",
              "      <td>23:20:00</td>\n",
              "      <td>03/31/2018</td>\n",
              "      <td>23:30:00</td>\n",
              "      <td>COMPLETED</td>\n",
              "      <td>RICHMOND TERRACE</td>\n",
              "      <td>10143.0</td>\n",
              "      <td>...</td>\n",
              "      <td>M</td>\n",
              "      <td>NaN</td>\n",
              "      <td>&lt;18</td>\n",
              "      <td>BLACK</td>\n",
              "      <td>F</td>\n",
              "      <td>962748.0</td>\n",
              "      <td>174174.0</td>\n",
              "      <td>40.644726</td>\n",
              "      <td>-74.077483</td>\n",
              "      <td>(40.644726131, -74.077483159)</td>\n",
              "    </tr>\n",
              "    <tr>\n",
              "      <th>2</th>\n",
              "      <td>399593692</td>\n",
              "      <td>105</td>\n",
              "      <td>QUEENS</td>\n",
              "      <td>03/31/2018</td>\n",
              "      <td>23:15:00</td>\n",
              "      <td>03/31/2018</td>\n",
              "      <td>23:20:00</td>\n",
              "      <td>COMPLETED</td>\n",
              "      <td>NaN</td>\n",
              "      <td>NaN</td>\n",
              "      <td>...</td>\n",
              "      <td>M</td>\n",
              "      <td>NaN</td>\n",
              "      <td>18-24</td>\n",
              "      <td>BLACK</td>\n",
              "      <td>F</td>\n",
              "      <td>1056932.0</td>\n",
              "      <td>200034.0</td>\n",
              "      <td>40.715434</td>\n",
              "      <td>-73.737816</td>\n",
              "      <td>(40.715433534, -73.737816163)</td>\n",
              "    </tr>\n",
              "    <tr>\n",
              "      <th>3</th>\n",
              "      <td>282376455</td>\n",
              "      <td>110</td>\n",
              "      <td>QUEENS</td>\n",
              "      <td>03/31/2018</td>\n",
              "      <td>23:10:00</td>\n",
              "      <td>03/31/2018</td>\n",
              "      <td>23:20:00</td>\n",
              "      <td>COMPLETED</td>\n",
              "      <td>NaN</td>\n",
              "      <td>NaN</td>\n",
              "      <td>...</td>\n",
              "      <td>M</td>\n",
              "      <td>NaN</td>\n",
              "      <td>25-44</td>\n",
              "      <td>WHITE HISPANIC</td>\n",
              "      <td>M</td>\n",
              "      <td>1014990.0</td>\n",
              "      <td>210503.0</td>\n",
              "      <td>40.744414</td>\n",
              "      <td>-73.889065</td>\n",
              "      <td>(40.744413503, -73.889065158)</td>\n",
              "    </tr>\n",
              "    <tr>\n",
              "      <th>4</th>\n",
              "      <td>201598299</td>\n",
              "      <td>78</td>\n",
              "      <td>BROOKLYN</td>\n",
              "      <td>03/31/2018</td>\n",
              "      <td>23:10:00</td>\n",
              "      <td>03/31/2018</td>\n",
              "      <td>23:19:00</td>\n",
              "      <td>COMPLETED</td>\n",
              "      <td>572 WARREN STREET</td>\n",
              "      <td>2379.0</td>\n",
              "      <td>...</td>\n",
              "      <td>F</td>\n",
              "      <td>NaN</td>\n",
              "      <td>25-44</td>\n",
              "      <td>BLACK</td>\n",
              "      <td>F</td>\n",
              "      <td>989141.0</td>\n",
              "      <td>187733.0</td>\n",
              "      <td>40.681967</td>\n",
              "      <td>-73.982367</td>\n",
              "      <td>(40.681967344, -73.982367054)</td>\n",
              "    </tr>\n",
              "  </tbody>\n",
              "</table>\n",
              "<p>5 rows × 35 columns</p>\n",
              "</div>"
            ],
            "text/plain": [
              "   CMPLNT_NUM  ADDR_PCT_CD        BORO_NM CMPLNT_FR_DT CMPLNT_FR_TM  \\\n",
              "0   831526991           67       BROOKLYN   03/31/2018     23:30:00   \n",
              "1   496736340          120  STATEN ISLAND   03/31/2018     23:20:00   \n",
              "2   399593692          105         QUEENS   03/31/2018     23:15:00   \n",
              "3   282376455          110         QUEENS   03/31/2018     23:10:00   \n",
              "4   201598299           78       BROOKLYN   03/31/2018     23:10:00   \n",
              "\n",
              "  CMPLNT_TO_DT CMPLNT_TO_TM CRM_ATPT_CPTD_CD         HADEVELOPT  HOUSING_PSA  \\\n",
              "0   03/31/2018     23:37:00        COMPLETED                NaN          NaN   \n",
              "1   03/31/2018     23:30:00        COMPLETED   RICHMOND TERRACE      10143.0   \n",
              "2   03/31/2018     23:20:00        COMPLETED                NaN          NaN   \n",
              "3   03/31/2018     23:20:00        COMPLETED                NaN          NaN   \n",
              "4   03/31/2018     23:19:00        COMPLETED  572 WARREN STREET       2379.0   \n",
              "\n",
              "               ...                SUSP_SEX TRANSIT_DISTRICT  VIC_AGE_GROUP  \\\n",
              "0              ...                     NaN              NaN        UNKNOWN   \n",
              "1              ...                       M              NaN            <18   \n",
              "2              ...                       M              NaN          18-24   \n",
              "3              ...                       M              NaN          25-44   \n",
              "4              ...                       F              NaN          25-44   \n",
              "\n",
              "         VIC_RACE VIC_SEX X_COORD_CD Y_COORD_CD   Latitude  Longitude  \\\n",
              "0         UNKNOWN       E  1003227.0   177460.0  40.653751 -73.931609   \n",
              "1           BLACK       F   962748.0   174174.0  40.644726 -74.077483   \n",
              "2           BLACK       F  1056932.0   200034.0  40.715434 -73.737816   \n",
              "3  WHITE HISPANIC       M  1014990.0   210503.0  40.744414 -73.889065   \n",
              "4           BLACK       F   989141.0   187733.0  40.681967 -73.982367   \n",
              "\n",
              "                         Lat_Lon  \n",
              "0  (40.653751263, -73.931609227)  \n",
              "1  (40.644726131, -74.077483159)  \n",
              "2  (40.715433534, -73.737816163)  \n",
              "3  (40.744413503, -73.889065158)  \n",
              "4  (40.681967344, -73.982367054)  \n",
              "\n",
              "[5 rows x 35 columns]"
            ]
          },
          "metadata": {
            "tags": []
          },
          "execution_count": 8
        }
      ]
    },
    {
      "cell_type": "code",
      "metadata": {
        "id": "Fy9bXGp33yLq",
        "outputId": "29ee06e2-f0b3-4f37-c0c2-3c5e13c0f1a6"
      },
      "source": [
        "data.describe()"
      ],
      "execution_count": null,
      "outputs": [
        {
          "output_type": "execute_result",
          "data": {
            "text/html": [
              "<div>\n",
              "<style scoped>\n",
              "    .dataframe tbody tr th:only-of-type {\n",
              "        vertical-align: middle;\n",
              "    }\n",
              "\n",
              "    .dataframe tbody tr th {\n",
              "        vertical-align: top;\n",
              "    }\n",
              "\n",
              "    .dataframe thead th {\n",
              "        text-align: right;\n",
              "    }\n",
              "</style>\n",
              "<table border=\"1\" class=\"dataframe\">\n",
              "  <thead>\n",
              "    <tr style=\"text-align: right;\">\n",
              "      <th></th>\n",
              "      <th>CMPLNT_NUM</th>\n",
              "      <th>ADDR_PCT_CD</th>\n",
              "      <th>HOUSING_PSA</th>\n",
              "      <th>JURISDICTION_CODE</th>\n",
              "      <th>KY_CD</th>\n",
              "      <th>PD_CD</th>\n",
              "      <th>TRANSIT_DISTRICT</th>\n",
              "      <th>X_COORD_CD</th>\n",
              "      <th>Y_COORD_CD</th>\n",
              "      <th>Latitude</th>\n",
              "      <th>Longitude</th>\n",
              "    </tr>\n",
              "  </thead>\n",
              "  <tbody>\n",
              "    <tr>\n",
              "      <th>count</th>\n",
              "      <td>1.095430e+05</td>\n",
              "      <td>109543.000000</td>\n",
              "      <td>8981.000000</td>\n",
              "      <td>109486.000000</td>\n",
              "      <td>109543.000000</td>\n",
              "      <td>109486.000000</td>\n",
              "      <td>3132.000000</td>\n",
              "      <td>1.095410e+05</td>\n",
              "      <td>109541.000000</td>\n",
              "      <td>109541.000000</td>\n",
              "      <td>109541.000000</td>\n",
              "    </tr>\n",
              "    <tr>\n",
              "      <th>mean</th>\n",
              "      <td>5.485759e+08</td>\n",
              "      <td>62.203710</td>\n",
              "      <td>6740.281817</td>\n",
              "      <td>0.991953</td>\n",
              "      <td>304.255087</td>\n",
              "      <td>412.556939</td>\n",
              "      <td>12.491699</td>\n",
              "      <td>1.004689e+06</td>\n",
              "      <td>207892.495011</td>\n",
              "      <td>40.737253</td>\n",
              "      <td>-73.926219</td>\n",
              "    </tr>\n",
              "    <tr>\n",
              "      <th>std</th>\n",
              "      <td>2.602368e+08</td>\n",
              "      <td>34.478829</td>\n",
              "      <td>14318.362695</td>\n",
              "      <td>8.356367</td>\n",
              "      <td>153.408398</td>\n",
              "      <td>220.627606</td>\n",
              "      <td>12.194563</td>\n",
              "      <td>2.107122e+04</td>\n",
              "      <td>30256.438911</td>\n",
              "      <td>0.083050</td>\n",
              "      <td>0.075994</td>\n",
              "    </tr>\n",
              "    <tr>\n",
              "      <th>min</th>\n",
              "      <td>1.000032e+08</td>\n",
              "      <td>1.000000</td>\n",
              "      <td>218.000000</td>\n",
              "      <td>0.000000</td>\n",
              "      <td>101.000000</td>\n",
              "      <td>101.000000</td>\n",
              "      <td>1.000000</td>\n",
              "      <td>9.135120e+05</td>\n",
              "      <td>121674.000000</td>\n",
              "      <td>40.500391</td>\n",
              "      <td>-74.254377</td>\n",
              "    </tr>\n",
              "    <tr>\n",
              "      <th>25%</th>\n",
              "      <td>3.221076e+08</td>\n",
              "      <td>34.000000</td>\n",
              "      <td>477.000000</td>\n",
              "      <td>0.000000</td>\n",
              "      <td>121.000000</td>\n",
              "      <td>254.000000</td>\n",
              "      <td>3.000000</td>\n",
              "      <td>9.916000e+05</td>\n",
              "      <td>184994.000000</td>\n",
              "      <td>40.674369</td>\n",
              "      <td>-73.973456</td>\n",
              "    </tr>\n",
              "    <tr>\n",
              "      <th>50%</th>\n",
              "      <td>5.482238e+08</td>\n",
              "      <td>62.000000</td>\n",
              "      <td>696.000000</td>\n",
              "      <td>0.000000</td>\n",
              "      <td>341.000000</td>\n",
              "      <td>349.000000</td>\n",
              "      <td>4.000000</td>\n",
              "      <td>1.004277e+06</td>\n",
              "      <td>207297.000000</td>\n",
              "      <td>40.735664</td>\n",
              "      <td>-73.927708</td>\n",
              "    </tr>\n",
              "    <tr>\n",
              "      <th>75%</th>\n",
              "      <td>7.740450e+08</td>\n",
              "      <td>90.000000</td>\n",
              "      <td>1233.000000</td>\n",
              "      <td>0.000000</td>\n",
              "      <td>351.000000</td>\n",
              "      <td>638.000000</td>\n",
              "      <td>23.000000</td>\n",
              "      <td>1.016293e+06</td>\n",
              "      <td>235507.000000</td>\n",
              "      <td>40.813058</td>\n",
              "      <td>-73.884233</td>\n",
              "    </tr>\n",
              "    <tr>\n",
              "      <th>max</th>\n",
              "      <td>9.999894e+08</td>\n",
              "      <td>123.000000</td>\n",
              "      <td>66871.000000</td>\n",
              "      <td>97.000000</td>\n",
              "      <td>678.000000</td>\n",
              "      <td>922.000000</td>\n",
              "      <td>34.000000</td>\n",
              "      <td>1.067226e+06</td>\n",
              "      <td>271820.000000</td>\n",
              "      <td>40.912723</td>\n",
              "      <td>-73.700568</td>\n",
              "    </tr>\n",
              "  </tbody>\n",
              "</table>\n",
              "</div>"
            ],
            "text/plain": [
              "         CMPLNT_NUM    ADDR_PCT_CD   HOUSING_PSA  JURISDICTION_CODE  \\\n",
              "count  1.095430e+05  109543.000000   8981.000000      109486.000000   \n",
              "mean   5.485759e+08      62.203710   6740.281817           0.991953   \n",
              "std    2.602368e+08      34.478829  14318.362695           8.356367   \n",
              "min    1.000032e+08       1.000000    218.000000           0.000000   \n",
              "25%    3.221076e+08      34.000000    477.000000           0.000000   \n",
              "50%    5.482238e+08      62.000000    696.000000           0.000000   \n",
              "75%    7.740450e+08      90.000000   1233.000000           0.000000   \n",
              "max    9.999894e+08     123.000000  66871.000000          97.000000   \n",
              "\n",
              "               KY_CD          PD_CD  TRANSIT_DISTRICT    X_COORD_CD  \\\n",
              "count  109543.000000  109486.000000       3132.000000  1.095410e+05   \n",
              "mean      304.255087     412.556939         12.491699  1.004689e+06   \n",
              "std       153.408398     220.627606         12.194563  2.107122e+04   \n",
              "min       101.000000     101.000000          1.000000  9.135120e+05   \n",
              "25%       121.000000     254.000000          3.000000  9.916000e+05   \n",
              "50%       341.000000     349.000000          4.000000  1.004277e+06   \n",
              "75%       351.000000     638.000000         23.000000  1.016293e+06   \n",
              "max       678.000000     922.000000         34.000000  1.067226e+06   \n",
              "\n",
              "          Y_COORD_CD       Latitude      Longitude  \n",
              "count  109541.000000  109541.000000  109541.000000  \n",
              "mean   207892.495011      40.737253     -73.926219  \n",
              "std     30256.438911       0.083050       0.075994  \n",
              "min    121674.000000      40.500391     -74.254377  \n",
              "25%    184994.000000      40.674369     -73.973456  \n",
              "50%    207297.000000      40.735664     -73.927708  \n",
              "75%    235507.000000      40.813058     -73.884233  \n",
              "max    271820.000000      40.912723     -73.700568  "
            ]
          },
          "metadata": {
            "tags": []
          },
          "execution_count": 9
        }
      ]
    },
    {
      "cell_type": "code",
      "metadata": {
        "id": "FwDUu1nZ3yLq",
        "outputId": "7d4c7224-1d6d-41fc-f2e2-612b2c4452e1"
      },
      "source": [
        "data.info()"
      ],
      "execution_count": null,
      "outputs": [
        {
          "output_type": "stream",
          "text": [
            "<class 'pandas.core.frame.DataFrame'>\n",
            "RangeIndex: 109543 entries, 0 to 109542\n",
            "Data columns (total 35 columns):\n",
            "CMPLNT_NUM           109543 non-null int64\n",
            "ADDR_PCT_CD          109543 non-null int64\n",
            "BORO_NM              109485 non-null object\n",
            "CMPLNT_FR_DT         109543 non-null object\n",
            "CMPLNT_FR_TM         109543 non-null object\n",
            "CMPLNT_TO_DT         93527 non-null object\n",
            "CMPLNT_TO_TM         93577 non-null object\n",
            "CRM_ATPT_CPTD_CD     109543 non-null object\n",
            "HADEVELOPT           5822 non-null object\n",
            "HOUSING_PSA          8981 non-null float64\n",
            "JURISDICTION_CODE    109486 non-null float64\n",
            "JURIS_DESC           109543 non-null object\n",
            "KY_CD                109543 non-null int64\n",
            "LAW_CAT_CD           109543 non-null object\n",
            "LOC_OF_OCCUR_DESC    90151 non-null object\n",
            "OFNS_DESC            109539 non-null object\n",
            "PARKS_NM             461 non-null object\n",
            "PATROL_BORO          109486 non-null object\n",
            "PD_CD                109486 non-null float64\n",
            "PD_DESC              109486 non-null object\n",
            "PREM_TYP_DESC        109110 non-null object\n",
            "RPT_DT               109543 non-null object\n",
            "STATION_NAME         3132 non-null object\n",
            "SUSP_AGE_GROUP       81410 non-null object\n",
            "SUSP_RACE            81419 non-null object\n",
            "SUSP_SEX             81419 non-null object\n",
            "TRANSIT_DISTRICT     3132 non-null float64\n",
            "VIC_AGE_GROUP        109543 non-null object\n",
            "VIC_RACE             109543 non-null object\n",
            "VIC_SEX              109543 non-null object\n",
            "X_COORD_CD           109541 non-null float64\n",
            "Y_COORD_CD           109541 non-null float64\n",
            "Latitude             109541 non-null float64\n",
            "Longitude            109541 non-null float64\n",
            "Lat_Lon              109541 non-null object\n",
            "dtypes: float64(8), int64(3), object(24)\n",
            "memory usage: 29.3+ MB\n"
          ],
          "name": "stdout"
        }
      ]
    },
    {
      "cell_type": "markdown",
      "metadata": {
        "id": "2de_JXRH3yLr"
      },
      "source": [
        "From the data description, there are 109543 instances with 35 features. Eight features \n",
        "are floating point numbers, three are integers, and 24 are objects. Given that the \n",
        "specific machine learning algorithms we'll be using would work best with numeric values, \n",
        "we'll start the data munging process by removing some features, converting object-types \n",
        "to numeric types, handling missing values, and adding a few features."
      ]
    },
    {
      "cell_type": "markdown",
      "metadata": {
        "id": "_A2B604s3yLr"
      },
      "source": [
        "### 2.3 Feature Engineering"
      ]
    },
    {
      "cell_type": "markdown",
      "metadata": {
        "id": "WuDhW9Q_3yLs"
      },
      "source": [
        "We'll start by getting a glimpse of all the columns in our dataframe."
      ]
    },
    {
      "cell_type": "code",
      "metadata": {
        "id": "T8_b4XZo3yLs",
        "outputId": "ef26805f-8154-468c-93f9-7f460e52f618"
      },
      "source": [
        "data.columns"
      ],
      "execution_count": null,
      "outputs": [
        {
          "output_type": "execute_result",
          "data": {
            "text/plain": [
              "Index(['CMPLNT_NUM', 'ADDR_PCT_CD', 'BORO_NM', 'CMPLNT_FR_DT', 'CMPLNT_FR_TM',\n",
              "       'CMPLNT_TO_DT', 'CMPLNT_TO_TM', 'CRM_ATPT_CPTD_CD', 'HADEVELOPT',\n",
              "       'HOUSING_PSA', 'JURISDICTION_CODE', 'JURIS_DESC', 'KY_CD', 'LAW_CAT_CD',\n",
              "       'LOC_OF_OCCUR_DESC', 'OFNS_DESC', 'PARKS_NM', 'PATROL_BORO', 'PD_CD',\n",
              "       'PD_DESC', 'PREM_TYP_DESC', 'RPT_DT', 'STATION_NAME', 'SUSP_AGE_GROUP',\n",
              "       'SUSP_RACE', 'SUSP_SEX', 'TRANSIT_DISTRICT', 'VIC_AGE_GROUP',\n",
              "       'VIC_RACE', 'VIC_SEX', 'X_COORD_CD', 'Y_COORD_CD', 'Latitude',\n",
              "       'Longitude', 'Lat_Lon'],\n",
              "      dtype='object')"
            ]
          },
          "metadata": {
            "tags": []
          },
          "execution_count": 11
        }
      ]
    },
    {
      "cell_type": "markdown",
      "metadata": {
        "id": "n72TZqpT3yLt"
      },
      "source": [
        "By referencing the linked data portal, we'll know what each column means. Thus, we have an idea as to which columns would be useful and which ones won't. For this analysis, the following features will be discarded because there are either not enough data points or are redundant for our specific purposes (they will remain in the original dataframe \"orig\"):\n",
        "1. Complaint Number (CMPLNT_NUM)\n",
        "1. Housing Development (HADEVELOPT)\n",
        "1. Housing PSA (HOUSING_PSA)\n",
        "1. Jurisdiction Code (JURISDICTION_CODE)\n",
        "1. Jurisdiction Description (JURISDICTION_DESC)\n",
        "1. Location of Occurence Description (LOC_OF_OCCUR_DESC)\n",
        "1. Parks (PARKS_NM)\n",
        "1. Patrol Borough (PATROL_BORO)\n",
        "1. Station Name (STATION_NAME)\n",
        "1. Transit District (TRANSIT_DISTRICT)\n",
        "1. X-Coordinate (X_COORD_CD)\n",
        "1. Y-Coordinate (Y_COORD_CD)\n",
        "1. Latitude-Longitude (Lat_Lon)"
      ]
    },
    {
      "cell_type": "code",
      "metadata": {
        "id": "JaS3SSCp3yLt"
      },
      "source": [
        "crime = data[['ADDR_PCT_CD', 'BORO_NM', 'CMPLNT_FR_DT', 'CMPLNT_FR_TM',\n",
        "       'CMPLNT_TO_DT', 'CMPLNT_TO_TM', 'CRM_ATPT_CPTD_CD', 'KY_CD', 'LAW_CAT_CD',\n",
        "       'OFNS_DESC','PD_DESC', 'PREM_TYP_DESC', 'RPT_DT', 'SUSP_AGE_GROUP',\n",
        "       'SUSP_RACE', 'SUSP_SEX', 'VIC_AGE_GROUP',\n",
        "       'VIC_RACE', 'VIC_SEX', 'Latitude',\n",
        "       'Longitude']]"
      ],
      "execution_count": null,
      "outputs": []
    },
    {
      "cell_type": "code",
      "metadata": {
        "id": "Zlk12TML3yLu",
        "outputId": "4109b529-117e-4aaa-d445-c7e932fdc8c0"
      },
      "source": [
        "len(crime.columns)"
      ],
      "execution_count": null,
      "outputs": [
        {
          "output_type": "execute_result",
          "data": {
            "text/plain": [
              "21"
            ]
          },
          "metadata": {
            "tags": []
          },
          "execution_count": 13
        }
      ]
    },
    {
      "cell_type": "code",
      "metadata": {
        "id": "9xdrGKDH3yLu",
        "outputId": "2d8c95a7-9bd8-4086-9872-6370b6dcb77a"
      },
      "source": [
        "crime.head()"
      ],
      "execution_count": null,
      "outputs": [
        {
          "output_type": "execute_result",
          "data": {
            "text/html": [
              "<div>\n",
              "<style scoped>\n",
              "    .dataframe tbody tr th:only-of-type {\n",
              "        vertical-align: middle;\n",
              "    }\n",
              "\n",
              "    .dataframe tbody tr th {\n",
              "        vertical-align: top;\n",
              "    }\n",
              "\n",
              "    .dataframe thead th {\n",
              "        text-align: right;\n",
              "    }\n",
              "</style>\n",
              "<table border=\"1\" class=\"dataframe\">\n",
              "  <thead>\n",
              "    <tr style=\"text-align: right;\">\n",
              "      <th></th>\n",
              "      <th>ADDR_PCT_CD</th>\n",
              "      <th>BORO_NM</th>\n",
              "      <th>CMPLNT_FR_DT</th>\n",
              "      <th>CMPLNT_FR_TM</th>\n",
              "      <th>CMPLNT_TO_DT</th>\n",
              "      <th>CMPLNT_TO_TM</th>\n",
              "      <th>CRM_ATPT_CPTD_CD</th>\n",
              "      <th>KY_CD</th>\n",
              "      <th>LAW_CAT_CD</th>\n",
              "      <th>OFNS_DESC</th>\n",
              "      <th>...</th>\n",
              "      <th>PREM_TYP_DESC</th>\n",
              "      <th>RPT_DT</th>\n",
              "      <th>SUSP_AGE_GROUP</th>\n",
              "      <th>SUSP_RACE</th>\n",
              "      <th>SUSP_SEX</th>\n",
              "      <th>VIC_AGE_GROUP</th>\n",
              "      <th>VIC_RACE</th>\n",
              "      <th>VIC_SEX</th>\n",
              "      <th>Latitude</th>\n",
              "      <th>Longitude</th>\n",
              "    </tr>\n",
              "  </thead>\n",
              "  <tbody>\n",
              "    <tr>\n",
              "      <th>0</th>\n",
              "      <td>67</td>\n",
              "      <td>BROOKLYN</td>\n",
              "      <td>03/31/2018</td>\n",
              "      <td>23:30:00</td>\n",
              "      <td>03/31/2018</td>\n",
              "      <td>23:37:00</td>\n",
              "      <td>COMPLETED</td>\n",
              "      <td>236</td>\n",
              "      <td>MISDEMEANOR</td>\n",
              "      <td>DANGEROUS WEAPONS</td>\n",
              "      <td>...</td>\n",
              "      <td>STREET</td>\n",
              "      <td>03/31/2018</td>\n",
              "      <td>NaN</td>\n",
              "      <td>NaN</td>\n",
              "      <td>NaN</td>\n",
              "      <td>UNKNOWN</td>\n",
              "      <td>UNKNOWN</td>\n",
              "      <td>E</td>\n",
              "      <td>40.653751</td>\n",
              "      <td>-73.931609</td>\n",
              "    </tr>\n",
              "    <tr>\n",
              "      <th>1</th>\n",
              "      <td>120</td>\n",
              "      <td>STATEN ISLAND</td>\n",
              "      <td>03/31/2018</td>\n",
              "      <td>23:20:00</td>\n",
              "      <td>03/31/2018</td>\n",
              "      <td>23:30:00</td>\n",
              "      <td>COMPLETED</td>\n",
              "      <td>104</td>\n",
              "      <td>FELONY</td>\n",
              "      <td>RAPE</td>\n",
              "      <td>...</td>\n",
              "      <td>RESIDENCE - PUBLIC HOUSING</td>\n",
              "      <td>03/31/2018</td>\n",
              "      <td>18-24</td>\n",
              "      <td>UNKNOWN</td>\n",
              "      <td>M</td>\n",
              "      <td>&lt;18</td>\n",
              "      <td>BLACK</td>\n",
              "      <td>F</td>\n",
              "      <td>40.644726</td>\n",
              "      <td>-74.077483</td>\n",
              "    </tr>\n",
              "    <tr>\n",
              "      <th>2</th>\n",
              "      <td>105</td>\n",
              "      <td>QUEENS</td>\n",
              "      <td>03/31/2018</td>\n",
              "      <td>23:15:00</td>\n",
              "      <td>03/31/2018</td>\n",
              "      <td>23:20:00</td>\n",
              "      <td>COMPLETED</td>\n",
              "      <td>361</td>\n",
              "      <td>MISDEMEANOR</td>\n",
              "      <td>OFF. AGNST PUB ORD SENSBLTY &amp;</td>\n",
              "      <td>...</td>\n",
              "      <td>RESIDENCE-HOUSE</td>\n",
              "      <td>03/31/2018</td>\n",
              "      <td>25-44</td>\n",
              "      <td>BLACK</td>\n",
              "      <td>M</td>\n",
              "      <td>18-24</td>\n",
              "      <td>BLACK</td>\n",
              "      <td>F</td>\n",
              "      <td>40.715434</td>\n",
              "      <td>-73.737816</td>\n",
              "    </tr>\n",
              "    <tr>\n",
              "      <th>3</th>\n",
              "      <td>110</td>\n",
              "      <td>QUEENS</td>\n",
              "      <td>03/31/2018</td>\n",
              "      <td>23:10:00</td>\n",
              "      <td>03/31/2018</td>\n",
              "      <td>23:20:00</td>\n",
              "      <td>COMPLETED</td>\n",
              "      <td>105</td>\n",
              "      <td>FELONY</td>\n",
              "      <td>ROBBERY</td>\n",
              "      <td>...</td>\n",
              "      <td>RESIDENCE - APT. HOUSE</td>\n",
              "      <td>03/31/2018</td>\n",
              "      <td>UNKNOWN</td>\n",
              "      <td>WHITE HISPANIC</td>\n",
              "      <td>M</td>\n",
              "      <td>25-44</td>\n",
              "      <td>WHITE HISPANIC</td>\n",
              "      <td>M</td>\n",
              "      <td>40.744414</td>\n",
              "      <td>-73.889065</td>\n",
              "    </tr>\n",
              "    <tr>\n",
              "      <th>4</th>\n",
              "      <td>78</td>\n",
              "      <td>BROOKLYN</td>\n",
              "      <td>03/31/2018</td>\n",
              "      <td>23:10:00</td>\n",
              "      <td>03/31/2018</td>\n",
              "      <td>23:19:00</td>\n",
              "      <td>COMPLETED</td>\n",
              "      <td>578</td>\n",
              "      <td>VIOLATION</td>\n",
              "      <td>HARRASSMENT 2</td>\n",
              "      <td>...</td>\n",
              "      <td>RESIDENCE - PUBLIC HOUSING</td>\n",
              "      <td>03/31/2018</td>\n",
              "      <td>45-64</td>\n",
              "      <td>WHITE HISPANIC</td>\n",
              "      <td>F</td>\n",
              "      <td>25-44</td>\n",
              "      <td>BLACK</td>\n",
              "      <td>F</td>\n",
              "      <td>40.681967</td>\n",
              "      <td>-73.982367</td>\n",
              "    </tr>\n",
              "  </tbody>\n",
              "</table>\n",
              "<p>5 rows × 21 columns</p>\n",
              "</div>"
            ],
            "text/plain": [
              "   ADDR_PCT_CD        BORO_NM CMPLNT_FR_DT CMPLNT_FR_TM CMPLNT_TO_DT  \\\n",
              "0           67       BROOKLYN   03/31/2018     23:30:00   03/31/2018   \n",
              "1          120  STATEN ISLAND   03/31/2018     23:20:00   03/31/2018   \n",
              "2          105         QUEENS   03/31/2018     23:15:00   03/31/2018   \n",
              "3          110         QUEENS   03/31/2018     23:10:00   03/31/2018   \n",
              "4           78       BROOKLYN   03/31/2018     23:10:00   03/31/2018   \n",
              "\n",
              "  CMPLNT_TO_TM CRM_ATPT_CPTD_CD  KY_CD   LAW_CAT_CD  \\\n",
              "0     23:37:00        COMPLETED    236  MISDEMEANOR   \n",
              "1     23:30:00        COMPLETED    104       FELONY   \n",
              "2     23:20:00        COMPLETED    361  MISDEMEANOR   \n",
              "3     23:20:00        COMPLETED    105       FELONY   \n",
              "4     23:19:00        COMPLETED    578    VIOLATION   \n",
              "\n",
              "                       OFNS_DESC    ...                   PREM_TYP_DESC  \\\n",
              "0              DANGEROUS WEAPONS    ...                          STREET   \n",
              "1                           RAPE    ...      RESIDENCE - PUBLIC HOUSING   \n",
              "2  OFF. AGNST PUB ORD SENSBLTY &    ...                 RESIDENCE-HOUSE   \n",
              "3                        ROBBERY    ...          RESIDENCE - APT. HOUSE   \n",
              "4                  HARRASSMENT 2    ...      RESIDENCE - PUBLIC HOUSING   \n",
              "\n",
              "       RPT_DT SUSP_AGE_GROUP       SUSP_RACE SUSP_SEX VIC_AGE_GROUP  \\\n",
              "0  03/31/2018            NaN             NaN      NaN       UNKNOWN   \n",
              "1  03/31/2018          18-24         UNKNOWN        M           <18   \n",
              "2  03/31/2018          25-44           BLACK        M         18-24   \n",
              "3  03/31/2018        UNKNOWN  WHITE HISPANIC        M         25-44   \n",
              "4  03/31/2018          45-64  WHITE HISPANIC        F         25-44   \n",
              "\n",
              "         VIC_RACE VIC_SEX   Latitude  Longitude  \n",
              "0         UNKNOWN       E  40.653751 -73.931609  \n",
              "1           BLACK       F  40.644726 -74.077483  \n",
              "2           BLACK       F  40.715434 -73.737816  \n",
              "3  WHITE HISPANIC       M  40.744414 -73.889065  \n",
              "4           BLACK       F  40.681967 -73.982367  \n",
              "\n",
              "[5 rows x 21 columns]"
            ]
          },
          "metadata": {
            "tags": []
          },
          "execution_count": 14
        }
      ]
    },
    {
      "cell_type": "code",
      "metadata": {
        "id": "K9Xmtw843yLv",
        "outputId": "22fde061-718b-4d16-e404-9e8b10cc1d72"
      },
      "source": [
        "sns.heatmap(crime.isnull(),yticklabels=False,cbar=False,cmap='Blues')"
      ],
      "execution_count": null,
      "outputs": [
        {
          "output_type": "execute_result",
          "data": {
            "text/plain": [
              "<matplotlib.axes._subplots.AxesSubplot at 0x11036c4a8>"
            ]
          },
          "metadata": {
            "tags": []
          },
          "execution_count": 15
        },
        {
          "output_type": "display_data",
          "data": {
            "image/png": "[encoded data removed]",
            "text/plain": [
              "<Figure size 432x288 with 1 Axes>"
            ]
          },
          "metadata": {
            "tags": []
          }
        }
      ]
    },
    {
      "cell_type": "markdown",
      "metadata": {
        "id": "0L4j2EIb3yLv"
      },
      "source": [
        "Currently, we have missing data for demographic information for the suspects and complaint times/dates, in addition to the type of area where the crime occurred. Since we will not be using suspect demographic information, those features will be removed. We will also remove the missing complaint data and time information as well as the one premies description feature."
      ]
    },
    {
      "cell_type": "code",
      "metadata": {
        "id": "tr5Quv7F3yLw",
        "outputId": "f1a80245-a283-4fdf-9dca-66a4bba22ca8"
      },
      "source": [
        "crime['SUSP_AGE_GROUP'].isnull().count()"
      ],
      "execution_count": null,
      "outputs": [
        {
          "output_type": "execute_result",
          "data": {
            "text/plain": [
              "109543"
            ]
          },
          "metadata": {
            "tags": []
          },
          "execution_count": 16
        }
      ]
    },
    {
      "cell_type": "code",
      "metadata": {
        "id": "E3eGFM4a3yLw"
      },
      "source": [
        "# Too little information about suspect demographics, so features will be removed\n",
        "crime = crime.drop('SUSP_AGE_GROUP',axis=1)  \n",
        "crime = crime.drop('SUSP_RACE',axis=1)\n",
        "crime = crime.drop('SUSP_SEX',axis=1)"
      ],
      "execution_count": null,
      "outputs": []
    },
    {
      "cell_type": "code",
      "metadata": {
        "id": "gt1lyPtX3yLx"
      },
      "source": [
        "crime = crime.drop('CMPLNT_TO_DT',axis=1)\n",
        "crime = crime.drop('CMPLNT_TO_TM',axis=1)"
      ],
      "execution_count": null,
      "outputs": []
    },
    {
      "cell_type": "code",
      "metadata": {
        "id": "GF7k33is3yLx",
        "outputId": "4cb26c51-48c4-4658-c509-56cef8d86b53"
      },
      "source": [
        "crime.head()"
      ],
      "execution_count": null,
      "outputs": [
        {
          "output_type": "execute_result",
          "data": {
            "text/html": [
              "<div>\n",
              "<style scoped>\n",
              "    .dataframe tbody tr th:only-of-type {\n",
              "        vertical-align: middle;\n",
              "    }\n",
              "\n",
              "    .dataframe tbody tr th {\n",
              "        vertical-align: top;\n",
              "    }\n",
              "\n",
              "    .dataframe thead th {\n",
              "        text-align: right;\n",
              "    }\n",
              "</style>\n",
              "<table border=\"1\" class=\"dataframe\">\n",
              "  <thead>\n",
              "    <tr style=\"text-align: right;\">\n",
              "      <th></th>\n",
              "      <th>ADDR_PCT_CD</th>\n",
              "      <th>BORO_NM</th>\n",
              "      <th>CMPLNT_FR_DT</th>\n",
              "      <th>CMPLNT_FR_TM</th>\n",
              "      <th>CRM_ATPT_CPTD_CD</th>\n",
              "      <th>KY_CD</th>\n",
              "      <th>LAW_CAT_CD</th>\n",
              "      <th>OFNS_DESC</th>\n",
              "      <th>PD_DESC</th>\n",
              "      <th>PREM_TYP_DESC</th>\n",
              "      <th>RPT_DT</th>\n",
              "      <th>VIC_AGE_GROUP</th>\n",
              "      <th>VIC_RACE</th>\n",
              "      <th>VIC_SEX</th>\n",
              "      <th>Latitude</th>\n",
              "      <th>Longitude</th>\n",
              "    </tr>\n",
              "  </thead>\n",
              "  <tbody>\n",
              "    <tr>\n",
              "      <th>0</th>\n",
              "      <td>67</td>\n",
              "      <td>BROOKLYN</td>\n",
              "      <td>03/31/2018</td>\n",
              "      <td>23:30:00</td>\n",
              "      <td>COMPLETED</td>\n",
              "      <td>236</td>\n",
              "      <td>MISDEMEANOR</td>\n",
              "      <td>DANGEROUS WEAPONS</td>\n",
              "      <td>WEAPONS, POSSESSION, ETC</td>\n",
              "      <td>STREET</td>\n",
              "      <td>03/31/2018</td>\n",
              "      <td>UNKNOWN</td>\n",
              "      <td>UNKNOWN</td>\n",
              "      <td>E</td>\n",
              "      <td>40.653751</td>\n",
              "      <td>-73.931609</td>\n",
              "    </tr>\n",
              "    <tr>\n",
              "      <th>1</th>\n",
              "      <td>120</td>\n",
              "      <td>STATEN ISLAND</td>\n",
              "      <td>03/31/2018</td>\n",
              "      <td>23:20:00</td>\n",
              "      <td>COMPLETED</td>\n",
              "      <td>104</td>\n",
              "      <td>FELONY</td>\n",
              "      <td>RAPE</td>\n",
              "      <td>RAPE 2</td>\n",
              "      <td>RESIDENCE - PUBLIC HOUSING</td>\n",
              "      <td>03/31/2018</td>\n",
              "      <td>&lt;18</td>\n",
              "      <td>BLACK</td>\n",
              "      <td>F</td>\n",
              "      <td>40.644726</td>\n",
              "      <td>-74.077483</td>\n",
              "    </tr>\n",
              "    <tr>\n",
              "      <th>2</th>\n",
              "      <td>105</td>\n",
              "      <td>QUEENS</td>\n",
              "      <td>03/31/2018</td>\n",
              "      <td>23:15:00</td>\n",
              "      <td>COMPLETED</td>\n",
              "      <td>361</td>\n",
              "      <td>MISDEMEANOR</td>\n",
              "      <td>OFF. AGNST PUB ORD SENSBLTY &amp;</td>\n",
              "      <td>AGGRAVATED HARASSMENT 2</td>\n",
              "      <td>RESIDENCE-HOUSE</td>\n",
              "      <td>03/31/2018</td>\n",
              "      <td>18-24</td>\n",
              "      <td>BLACK</td>\n",
              "      <td>F</td>\n",
              "      <td>40.715434</td>\n",
              "      <td>-73.737816</td>\n",
              "    </tr>\n",
              "    <tr>\n",
              "      <th>3</th>\n",
              "      <td>110</td>\n",
              "      <td>QUEENS</td>\n",
              "      <td>03/31/2018</td>\n",
              "      <td>23:10:00</td>\n",
              "      <td>COMPLETED</td>\n",
              "      <td>105</td>\n",
              "      <td>FELONY</td>\n",
              "      <td>ROBBERY</td>\n",
              "      <td>ROBBERY,DELIVERY PERSON</td>\n",
              "      <td>RESIDENCE - APT. HOUSE</td>\n",
              "      <td>03/31/2018</td>\n",
              "      <td>25-44</td>\n",
              "      <td>WHITE HISPANIC</td>\n",
              "      <td>M</td>\n",
              "      <td>40.744414</td>\n",
              "      <td>-73.889065</td>\n",
              "    </tr>\n",
              "    <tr>\n",
              "      <th>4</th>\n",
              "      <td>78</td>\n",
              "      <td>BROOKLYN</td>\n",
              "      <td>03/31/2018</td>\n",
              "      <td>23:10:00</td>\n",
              "      <td>COMPLETED</td>\n",
              "      <td>578</td>\n",
              "      <td>VIOLATION</td>\n",
              "      <td>HARRASSMENT 2</td>\n",
              "      <td>HARASSMENT,SUBD 3,4,5</td>\n",
              "      <td>RESIDENCE - PUBLIC HOUSING</td>\n",
              "      <td>03/31/2018</td>\n",
              "      <td>25-44</td>\n",
              "      <td>BLACK</td>\n",
              "      <td>F</td>\n",
              "      <td>40.681967</td>\n",
              "      <td>-73.982367</td>\n",
              "    </tr>\n",
              "  </tbody>\n",
              "</table>\n",
              "</div>"
            ],
            "text/plain": [
              "   ADDR_PCT_CD        BORO_NM CMPLNT_FR_DT CMPLNT_FR_TM CRM_ATPT_CPTD_CD  \\\n",
              "0           67       BROOKLYN   03/31/2018     23:30:00        COMPLETED   \n",
              "1          120  STATEN ISLAND   03/31/2018     23:20:00        COMPLETED   \n",
              "2          105         QUEENS   03/31/2018     23:15:00        COMPLETED   \n",
              "3          110         QUEENS   03/31/2018     23:10:00        COMPLETED   \n",
              "4           78       BROOKLYN   03/31/2018     23:10:00        COMPLETED   \n",
              "\n",
              "   KY_CD   LAW_CAT_CD                      OFNS_DESC  \\\n",
              "0    236  MISDEMEANOR              DANGEROUS WEAPONS   \n",
              "1    104       FELONY                           RAPE   \n",
              "2    361  MISDEMEANOR  OFF. AGNST PUB ORD SENSBLTY &   \n",
              "3    105       FELONY                        ROBBERY   \n",
              "4    578    VIOLATION                  HARRASSMENT 2   \n",
              "\n",
              "                    PD_DESC               PREM_TYP_DESC      RPT_DT  \\\n",
              "0  WEAPONS, POSSESSION, ETC                      STREET  03/31/2018   \n",
              "1                    RAPE 2  RESIDENCE - PUBLIC HOUSING  03/31/2018   \n",
              "2   AGGRAVATED HARASSMENT 2             RESIDENCE-HOUSE  03/31/2018   \n",
              "3   ROBBERY,DELIVERY PERSON      RESIDENCE - APT. HOUSE  03/31/2018   \n",
              "4     HARASSMENT,SUBD 3,4,5  RESIDENCE - PUBLIC HOUSING  03/31/2018   \n",
              "\n",
              "  VIC_AGE_GROUP        VIC_RACE VIC_SEX   Latitude  Longitude  \n",
              "0       UNKNOWN         UNKNOWN       E  40.653751 -73.931609  \n",
              "1           <18           BLACK       F  40.644726 -74.077483  \n",
              "2         18-24           BLACK       F  40.715434 -73.737816  \n",
              "3         25-44  WHITE HISPANIC       M  40.744414 -73.889065  \n",
              "4         25-44           BLACK       F  40.681967 -73.982367  "
            ]
          },
          "metadata": {
            "tags": []
          },
          "execution_count": 19
        }
      ]
    },
    {
      "cell_type": "code",
      "metadata": {
        "id": "aZSknMMD3yLy"
      },
      "source": [
        "crime = crime.drop('PREM_TYP_DESC',axis=1)"
      ],
      "execution_count": null,
      "outputs": []
    },
    {
      "cell_type": "code",
      "metadata": {
        "id": "_rTZ4ZeJ3yLy",
        "outputId": "13c238a5-b7d3-42dd-bb90-115d21c2beca"
      },
      "source": [
        "sns.heatmap(crime.isnull(),yticklabels=False,cbar=False,cmap='Blues')"
      ],
      "execution_count": null,
      "outputs": [
        {
          "output_type": "execute_result",
          "data": {
            "text/plain": [
              "<matplotlib.axes._subplots.AxesSubplot at 0x111b235f8>"
            ]
          },
          "metadata": {
            "tags": []
          },
          "execution_count": 21
        },
        {
          "output_type": "display_data",
          "data": {
            "image/png": "[encoded data removed]",
            "text/plain": [
              "<Figure size 432x288 with 1 Axes>"
            ]
          },
          "metadata": {
            "tags": []
          }
        }
      ]
    },
    {
      "cell_type": "code",
      "metadata": {
        "id": "tMT25CT13yLz"
      },
      "source": [
        "crime = crime[crime['CMPLNT_FR_DT'].apply(lambda year: (year[6:] == '2017') or (year[6:] == '2016'))]"
      ],
      "execution_count": null,
      "outputs": []
    },
    {
      "cell_type": "code",
      "metadata": {
        "id": "frR34k7f3yLz"
      },
      "source": [
        "# Impute SEX, RACE, AGE\n",
        "#from sklearn.preprocessing import OneHotEncoder"
      ],
      "execution_count": null,
      "outputs": []
    },
    {
      "cell_type": "code",
      "metadata": {
        "id": "bQ4Ze3-I3yLz",
        "outputId": "0ef49ecc-08c4-49c2-e681-380e2ba1732a"
      },
      "source": [
        "# Impute Age Group\n",
        "crime['VIC_AGE_GROUP'].value_counts()"
      ],
      "execution_count": null,
      "outputs": [
        {
          "output_type": "execute_result",
          "data": {
            "text/plain": [
              "25-44      2002\n",
              "UNKNOWN    1449\n",
              "45-64      1362\n",
              "65+         551\n",
              "18-24       423\n",
              "<18         344\n",
              "-942          1\n",
              "972           1\n",
              "Name: VIC_AGE_GROUP, dtype: int64"
            ]
          },
          "metadata": {
            "tags": []
          },
          "execution_count": 24
        }
      ]
    },
    {
      "cell_type": "code",
      "metadata": {
        "id": "U0Y7Eqhn3yL0"
      },
      "source": [
        "crime[crime['VIC_AGE_GROUP'] == '972'] = \"UNKNOWN\""
      ],
      "execution_count": null,
      "outputs": []
    },
    {
      "cell_type": "code",
      "metadata": {
        "id": "qjcUPzWm3yL0"
      },
      "source": [
        "crime[crime['VIC_AGE_GROUP'] == '-942'] = \"UNKNOWN\""
      ],
      "execution_count": null,
      "outputs": []
    },
    {
      "cell_type": "code",
      "metadata": {
        "id": "8FL0xL-E3yL0",
        "outputId": "b3bdf2cb-f7a0-4309-e7ef-e56769aa3a1b"
      },
      "source": [
        "crime.info()"
      ],
      "execution_count": null,
      "outputs": [
        {
          "output_type": "stream",
          "text": [
            "<class 'pandas.core.frame.DataFrame'>\n",
            "Int64Index: 6133 entries, 1181 to 109537\n",
            "Data columns (total 15 columns):\n",
            "ADDR_PCT_CD         6133 non-null object\n",
            "BORO_NM             6129 non-null object\n",
            "CMPLNT_FR_DT        6133 non-null object\n",
            "CMPLNT_FR_TM        6133 non-null object\n",
            "CRM_ATPT_CPTD_CD    6133 non-null object\n",
            "KY_CD               6133 non-null object\n",
            "LAW_CAT_CD          6133 non-null object\n",
            "OFNS_DESC           6131 non-null object\n",
            "PD_DESC             6129 non-null object\n",
            "RPT_DT              6133 non-null object\n",
            "VIC_AGE_GROUP       6133 non-null object\n",
            "VIC_RACE            6133 non-null object\n",
            "VIC_SEX             6133 non-null object\n",
            "Latitude            6133 non-null object\n",
            "Longitude           6133 non-null object\n",
            "dtypes: object(15)\n",
            "memory usage: 766.6+ KB\n"
          ],
          "name": "stdout"
        }
      ]
    },
    {
      "cell_type": "code",
      "metadata": {
        "id": "rxpMdnPJ3yL0",
        "outputId": "c37053c7-ef48-4bfd-b7ee-3d79d4916a14"
      },
      "source": [
        "crime[crime['BORO_NM'].isnull()]"
      ],
      "execution_count": null,
      "outputs": [
        {
          "output_type": "execute_result",
          "data": {
            "text/html": [
              "<div>\n",
              "<style scoped>\n",
              "    .dataframe tbody tr th:only-of-type {\n",
              "        vertical-align: middle;\n",
              "    }\n",
              "\n",
              "    .dataframe tbody tr th {\n",
              "        vertical-align: top;\n",
              "    }\n",
              "\n",
              "    .dataframe thead th {\n",
              "        text-align: right;\n",
              "    }\n",
              "</style>\n",
              "<table border=\"1\" class=\"dataframe\">\n",
              "  <thead>\n",
              "    <tr style=\"text-align: right;\">\n",
              "      <th></th>\n",
              "      <th>ADDR_PCT_CD</th>\n",
              "      <th>BORO_NM</th>\n",
              "      <th>CMPLNT_FR_DT</th>\n",
              "      <th>CMPLNT_FR_TM</th>\n",
              "      <th>CRM_ATPT_CPTD_CD</th>\n",
              "      <th>KY_CD</th>\n",
              "      <th>LAW_CAT_CD</th>\n",
              "      <th>OFNS_DESC</th>\n",
              "      <th>PD_DESC</th>\n",
              "      <th>RPT_DT</th>\n",
              "      <th>VIC_AGE_GROUP</th>\n",
              "      <th>VIC_RACE</th>\n",
              "      <th>VIC_SEX</th>\n",
              "      <th>Latitude</th>\n",
              "      <th>Longitude</th>\n",
              "    </tr>\n",
              "  </thead>\n",
              "  <tbody>\n",
              "    <tr>\n",
              "      <th>37466</th>\n",
              "      <td>42</td>\n",
              "      <td>NaN</td>\n",
              "      <td>08/07/2016</td>\n",
              "      <td>02:20:00</td>\n",
              "      <td>COMPLETED</td>\n",
              "      <td>101</td>\n",
              "      <td>FELONY</td>\n",
              "      <td>MURDER &amp; NON-NEGL. MANSLAUGHTER</td>\n",
              "      <td>NaN</td>\n",
              "      <td>03/01/2018</td>\n",
              "      <td>18-24</td>\n",
              "      <td>BLACK</td>\n",
              "      <td>F</td>\n",
              "      <td>40.8285</td>\n",
              "      <td>-73.9055</td>\n",
              "    </tr>\n",
              "    <tr>\n",
              "      <th>47497</th>\n",
              "      <td>40</td>\n",
              "      <td>NaN</td>\n",
              "      <td>07/18/2017</td>\n",
              "      <td>20:30:00</td>\n",
              "      <td>COMPLETED</td>\n",
              "      <td>101</td>\n",
              "      <td>FELONY</td>\n",
              "      <td>MURDER &amp; NON-NEGL. MANSLAUGHTER</td>\n",
              "      <td>NaN</td>\n",
              "      <td>02/21/2018</td>\n",
              "      <td>18-24</td>\n",
              "      <td>BLACK</td>\n",
              "      <td>M</td>\n",
              "      <td>40.8046</td>\n",
              "      <td>-73.9202</td>\n",
              "    </tr>\n",
              "    <tr>\n",
              "      <th>74898</th>\n",
              "      <td>107</td>\n",
              "      <td>NaN</td>\n",
              "      <td>09/28/2017</td>\n",
              "      <td>18:26:00</td>\n",
              "      <td>COMPLETED</td>\n",
              "      <td>101</td>\n",
              "      <td>FELONY</td>\n",
              "      <td>MURDER &amp; NON-NEGL. MANSLAUGHTER</td>\n",
              "      <td>NaN</td>\n",
              "      <td>01/30/2018</td>\n",
              "      <td>65+</td>\n",
              "      <td>ASIAN/PAC.ISL</td>\n",
              "      <td>M</td>\n",
              "      <td>40.7291</td>\n",
              "      <td>-73.811</td>\n",
              "    </tr>\n",
              "    <tr>\n",
              "      <th>81400</th>\n",
              "      <td>120</td>\n",
              "      <td>NaN</td>\n",
              "      <td>07/10/2016</td>\n",
              "      <td>12:00:00</td>\n",
              "      <td>COMPLETED</td>\n",
              "      <td>101</td>\n",
              "      <td>FELONY</td>\n",
              "      <td>MURDER &amp; NON-NEGL. MANSLAUGHTER</td>\n",
              "      <td>NaN</td>\n",
              "      <td>01/25/2018</td>\n",
              "      <td>25-44</td>\n",
              "      <td>BLACK</td>\n",
              "      <td>M</td>\n",
              "      <td>40.6256</td>\n",
              "      <td>-74.075</td>\n",
              "    </tr>\n",
              "  </tbody>\n",
              "</table>\n",
              "</div>"
            ],
            "text/plain": [
              "      ADDR_PCT_CD BORO_NM CMPLNT_FR_DT CMPLNT_FR_TM CRM_ATPT_CPTD_CD KY_CD  \\\n",
              "37466          42     NaN   08/07/2016     02:20:00        COMPLETED   101   \n",
              "47497          40     NaN   07/18/2017     20:30:00        COMPLETED   101   \n",
              "74898         107     NaN   09/28/2017     18:26:00        COMPLETED   101   \n",
              "81400         120     NaN   07/10/2016     12:00:00        COMPLETED   101   \n",
              "\n",
              "      LAW_CAT_CD                        OFNS_DESC PD_DESC      RPT_DT  \\\n",
              "37466     FELONY  MURDER & NON-NEGL. MANSLAUGHTER     NaN  03/01/2018   \n",
              "47497     FELONY  MURDER & NON-NEGL. MANSLAUGHTER     NaN  02/21/2018   \n",
              "74898     FELONY  MURDER & NON-NEGL. MANSLAUGHTER     NaN  01/30/2018   \n",
              "81400     FELONY  MURDER & NON-NEGL. MANSLAUGHTER     NaN  01/25/2018   \n",
              "\n",
              "      VIC_AGE_GROUP       VIC_RACE VIC_SEX Latitude Longitude  \n",
              "37466         18-24          BLACK       F  40.8285  -73.9055  \n",
              "47497         18-24          BLACK       M  40.8046  -73.9202  \n",
              "74898           65+  ASIAN/PAC.ISL       M  40.7291   -73.811  \n",
              "81400         25-44          BLACK       M  40.6256   -74.075  "
            ]
          },
          "metadata": {
            "tags": []
          },
          "execution_count": 28
        }
      ]
    },
    {
      "cell_type": "code",
      "metadata": {
        "id": "6xnerR0_3yL1"
      },
      "source": [
        "# BRonx, bronx, queens, s.i\n",
        "crime.loc[37466]['BORO_NM'] = 'BRONX'\n",
        "crime.loc[37466]['PD_DESC'] = 'Unknown'\n",
        "\n",
        "crime.loc[47497]['BORO_NM'] = 'BRONX'\n",
        "crime.loc[47497]['PD_DESC'] = 'Unknown'\n",
        "\n",
        "crime.loc[74898]['BORO_NM'] = 'QUEENS'\n",
        "crime.loc[74898]['PD_DESC'] = 'Unknown'\n",
        "\n",
        "crime.loc[81400]['BORO_NM'] = 'STATEN ISLAND'\n",
        "crime.loc[81400]['PD_DESC'] = 'Unknown'\n"
      ],
      "execution_count": null,
      "outputs": []
    },
    {
      "cell_type": "code",
      "metadata": {
        "id": "ke20AUqE3yL1",
        "outputId": "9321805d-caa1-46f2-f632-dc341c7b5891"
      },
      "source": [
        "crime[crime['OFNS_DESC'].isnull()] "
      ],
      "execution_count": null,
      "outputs": [
        {
          "output_type": "execute_result",
          "data": {
            "text/html": [
              "<div>\n",
              "<style scoped>\n",
              "    .dataframe tbody tr th:only-of-type {\n",
              "        vertical-align: middle;\n",
              "    }\n",
              "\n",
              "    .dataframe tbody tr th {\n",
              "        vertical-align: top;\n",
              "    }\n",
              "\n",
              "    .dataframe thead th {\n",
              "        text-align: right;\n",
              "    }\n",
              "</style>\n",
              "<table border=\"1\" class=\"dataframe\">\n",
              "  <thead>\n",
              "    <tr style=\"text-align: right;\">\n",
              "      <th></th>\n",
              "      <th>ADDR_PCT_CD</th>\n",
              "      <th>BORO_NM</th>\n",
              "      <th>CMPLNT_FR_DT</th>\n",
              "      <th>CMPLNT_FR_TM</th>\n",
              "      <th>CRM_ATPT_CPTD_CD</th>\n",
              "      <th>KY_CD</th>\n",
              "      <th>LAW_CAT_CD</th>\n",
              "      <th>OFNS_DESC</th>\n",
              "      <th>PD_DESC</th>\n",
              "      <th>RPT_DT</th>\n",
              "      <th>VIC_AGE_GROUP</th>\n",
              "      <th>VIC_RACE</th>\n",
              "      <th>VIC_SEX</th>\n",
              "      <th>Latitude</th>\n",
              "      <th>Longitude</th>\n",
              "    </tr>\n",
              "  </thead>\n",
              "  <tbody>\n",
              "    <tr>\n",
              "      <th>53553</th>\n",
              "      <td>122</td>\n",
              "      <td>STATEN ISLAND</td>\n",
              "      <td>09/07/2017</td>\n",
              "      <td>14:25:00</td>\n",
              "      <td>COMPLETED</td>\n",
              "      <td>126</td>\n",
              "      <td>FELONY</td>\n",
              "      <td>NaN</td>\n",
              "      <td>OBSCENITY 1</td>\n",
              "      <td>02/16/2018</td>\n",
              "      <td>UNKNOWN</td>\n",
              "      <td>UNKNOWN</td>\n",
              "      <td>E</td>\n",
              "      <td>40.5836</td>\n",
              "      <td>-74.0881</td>\n",
              "    </tr>\n",
              "    <tr>\n",
              "      <th>67531</th>\n",
              "      <td>72</td>\n",
              "      <td>BROOKLYN</td>\n",
              "      <td>10/13/2017</td>\n",
              "      <td>09:33:00</td>\n",
              "      <td>COMPLETED</td>\n",
              "      <td>126</td>\n",
              "      <td>FELONY</td>\n",
              "      <td>NaN</td>\n",
              "      <td>OBSCENITY 1</td>\n",
              "      <td>02/05/2018</td>\n",
              "      <td>UNKNOWN</td>\n",
              "      <td>UNKNOWN</td>\n",
              "      <td>E</td>\n",
              "      <td>40.6418</td>\n",
              "      <td>-74.0102</td>\n",
              "    </tr>\n",
              "  </tbody>\n",
              "</table>\n",
              "</div>"
            ],
            "text/plain": [
              "      ADDR_PCT_CD        BORO_NM CMPLNT_FR_DT CMPLNT_FR_TM CRM_ATPT_CPTD_CD  \\\n",
              "53553         122  STATEN ISLAND   09/07/2017     14:25:00        COMPLETED   \n",
              "67531          72       BROOKLYN   10/13/2017     09:33:00        COMPLETED   \n",
              "\n",
              "      KY_CD LAW_CAT_CD OFNS_DESC      PD_DESC      RPT_DT VIC_AGE_GROUP  \\\n",
              "53553   126     FELONY       NaN  OBSCENITY 1  02/16/2018       UNKNOWN   \n",
              "67531   126     FELONY       NaN  OBSCENITY 1  02/05/2018       UNKNOWN   \n",
              "\n",
              "      VIC_RACE VIC_SEX Latitude Longitude  \n",
              "53553  UNKNOWN       E  40.5836  -74.0881  \n",
              "67531  UNKNOWN       E  40.6418  -74.0102  "
            ]
          },
          "metadata": {
            "tags": []
          },
          "execution_count": 30
        }
      ]
    },
    {
      "cell_type": "code",
      "metadata": {
        "id": "Vrq7P7v73yL2"
      },
      "source": [
        "crime.loc[53553]['OFNS_DESC'] = 'SEX CRIMES'\n",
        "crime.loc[67531]['OFNS_DESC'] = 'SEX CRIMES'"
      ],
      "execution_count": null,
      "outputs": []
    },
    {
      "cell_type": "markdown",
      "metadata": {
        "id": "he_BbNbU3yL2"
      },
      "source": [
        "## Exploratory Data Analysis"
      ]
    },
    {
      "cell_type": "code",
      "metadata": {
        "id": "tdYcvdRB3yL4",
        "outputId": "7619af49-3a06-499e-a389-094d91575b58"
      },
      "source": [
        "crime.head()"
      ],
      "execution_count": null,
      "outputs": [
        {
          "output_type": "execute_result",
          "data": {
            "text/html": [
              "<div>\n",
              "<style scoped>\n",
              "    .dataframe tbody tr th:only-of-type {\n",
              "        vertical-align: middle;\n",
              "    }\n",
              "\n",
              "    .dataframe tbody tr th {\n",
              "        vertical-align: top;\n",
              "    }\n",
              "\n",
              "    .dataframe thead th {\n",
              "        text-align: right;\n",
              "    }\n",
              "</style>\n",
              "<table border=\"1\" class=\"dataframe\">\n",
              "  <thead>\n",
              "    <tr style=\"text-align: right;\">\n",
              "      <th></th>\n",
              "      <th>ADDR_PCT_CD</th>\n",
              "      <th>BORO_NM</th>\n",
              "      <th>CMPLNT_FR_DT</th>\n",
              "      <th>CMPLNT_FR_TM</th>\n",
              "      <th>CRM_ATPT_CPTD_CD</th>\n",
              "      <th>KY_CD</th>\n",
              "      <th>LAW_CAT_CD</th>\n",
              "      <th>OFNS_DESC</th>\n",
              "      <th>PD_DESC</th>\n",
              "      <th>RPT_DT</th>\n",
              "      <th>VIC_AGE_GROUP</th>\n",
              "      <th>VIC_RACE</th>\n",
              "      <th>VIC_SEX</th>\n",
              "      <th>Latitude</th>\n",
              "      <th>Longitude</th>\n",
              "    </tr>\n",
              "  </thead>\n",
              "  <tbody>\n",
              "    <tr>\n",
              "      <th>1181</th>\n",
              "      <td>49</td>\n",
              "      <td>BRONX</td>\n",
              "      <td>12/08/2017</td>\n",
              "      <td>17:00:00</td>\n",
              "      <td>COMPLETED</td>\n",
              "      <td>104</td>\n",
              "      <td>FELONY</td>\n",
              "      <td>RAPE</td>\n",
              "      <td>RAPE 1</td>\n",
              "      <td>03/31/2018</td>\n",
              "      <td>18-24</td>\n",
              "      <td>BLACK</td>\n",
              "      <td>F</td>\n",
              "      <td>40.8562</td>\n",
              "      <td>-73.8444</td>\n",
              "    </tr>\n",
              "    <tr>\n",
              "      <th>1182</th>\n",
              "      <td>115</td>\n",
              "      <td>QUEENS</td>\n",
              "      <td>12/01/2017</td>\n",
              "      <td>00:00:00</td>\n",
              "      <td>COMPLETED</td>\n",
              "      <td>578</td>\n",
              "      <td>VIOLATION</td>\n",
              "      <td>HARRASSMENT 2</td>\n",
              "      <td>HARASSMENT,SUBD 3,4,5</td>\n",
              "      <td>03/31/2018</td>\n",
              "      <td>45-64</td>\n",
              "      <td>WHITE HISPANIC</td>\n",
              "      <td>M</td>\n",
              "      <td>40.7509</td>\n",
              "      <td>-73.8836</td>\n",
              "    </tr>\n",
              "    <tr>\n",
              "      <th>1183</th>\n",
              "      <td>68</td>\n",
              "      <td>BROOKLYN</td>\n",
              "      <td>11/27/2017</td>\n",
              "      <td>09:00:00</td>\n",
              "      <td>COMPLETED</td>\n",
              "      <td>341</td>\n",
              "      <td>MISDEMEANOR</td>\n",
              "      <td>PETIT LARCENY</td>\n",
              "      <td>LARCENY,PETIT FROM BUILDING,UN</td>\n",
              "      <td>03/31/2018</td>\n",
              "      <td>65+</td>\n",
              "      <td>WHITE</td>\n",
              "      <td>F</td>\n",
              "      <td>40.6231</td>\n",
              "      <td>-74.0327</td>\n",
              "    </tr>\n",
              "    <tr>\n",
              "      <th>1184</th>\n",
              "      <td>114</td>\n",
              "      <td>QUEENS</td>\n",
              "      <td>11/04/2017</td>\n",
              "      <td>10:30:00</td>\n",
              "      <td>COMPLETED</td>\n",
              "      <td>344</td>\n",
              "      <td>MISDEMEANOR</td>\n",
              "      <td>ASSAULT 3 &amp; RELATED OFFENSES</td>\n",
              "      <td>MENACING,UNCLASSIFIED</td>\n",
              "      <td>03/31/2018</td>\n",
              "      <td>25-44</td>\n",
              "      <td>UNKNOWN</td>\n",
              "      <td>M</td>\n",
              "      <td>40.7563</td>\n",
              "      <td>-73.9223</td>\n",
              "    </tr>\n",
              "    <tr>\n",
              "      <th>1185</th>\n",
              "      <td>47</td>\n",
              "      <td>BRONX</td>\n",
              "      <td>11/01/2017</td>\n",
              "      <td>09:00:00</td>\n",
              "      <td>COMPLETED</td>\n",
              "      <td>578</td>\n",
              "      <td>VIOLATION</td>\n",
              "      <td>HARRASSMENT 2</td>\n",
              "      <td>HARASSMENT,SUBD 3,4,5</td>\n",
              "      <td>03/31/2018</td>\n",
              "      <td>45-64</td>\n",
              "      <td>WHITE HISPANIC</td>\n",
              "      <td>F</td>\n",
              "      <td>40.8962</td>\n",
              "      <td>-73.8548</td>\n",
              "    </tr>\n",
              "  </tbody>\n",
              "</table>\n",
              "</div>"
            ],
            "text/plain": [
              "     ADDR_PCT_CD   BORO_NM CMPLNT_FR_DT CMPLNT_FR_TM CRM_ATPT_CPTD_CD KY_CD  \\\n",
              "1181          49     BRONX   12/08/2017     17:00:00        COMPLETED   104   \n",
              "1182         115    QUEENS   12/01/2017     00:00:00        COMPLETED   578   \n",
              "1183          68  BROOKLYN   11/27/2017     09:00:00        COMPLETED   341   \n",
              "1184         114    QUEENS   11/04/2017     10:30:00        COMPLETED   344   \n",
              "1185          47     BRONX   11/01/2017     09:00:00        COMPLETED   578   \n",
              "\n",
              "       LAW_CAT_CD                     OFNS_DESC  \\\n",
              "1181       FELONY                          RAPE   \n",
              "1182    VIOLATION                 HARRASSMENT 2   \n",
              "1183  MISDEMEANOR                 PETIT LARCENY   \n",
              "1184  MISDEMEANOR  ASSAULT 3 & RELATED OFFENSES   \n",
              "1185    VIOLATION                 HARRASSMENT 2   \n",
              "\n",
              "                             PD_DESC      RPT_DT VIC_AGE_GROUP  \\\n",
              "1181                          RAPE 1  03/31/2018         18-24   \n",
              "1182           HARASSMENT,SUBD 3,4,5  03/31/2018         45-64   \n",
              "1183  LARCENY,PETIT FROM BUILDING,UN  03/31/2018           65+   \n",
              "1184           MENACING,UNCLASSIFIED  03/31/2018         25-44   \n",
              "1185           HARASSMENT,SUBD 3,4,5  03/31/2018         45-64   \n",
              "\n",
              "            VIC_RACE VIC_SEX Latitude Longitude  \n",
              "1181           BLACK       F  40.8562  -73.8444  \n",
              "1182  WHITE HISPANIC       M  40.7509  -73.8836  \n",
              "1183           WHITE       F  40.6231  -74.0327  \n",
              "1184         UNKNOWN       M  40.7563  -73.9223  \n",
              "1185  WHITE HISPANIC       F  40.8962  -73.8548  "
            ]
          },
          "metadata": {
            "tags": []
          },
          "execution_count": 32
        }
      ]
    },
    {
      "cell_type": "code",
      "metadata": {
        "id": "WhTWVaWg3yL4",
        "outputId": "1362c39d-95c8-409e-a58a-605da63d7554"
      },
      "source": [
        "crime.info()"
      ],
      "execution_count": null,
      "outputs": [
        {
          "output_type": "stream",
          "text": [
            "<class 'pandas.core.frame.DataFrame'>\n",
            "Int64Index: 6133 entries, 1181 to 109537\n",
            "Data columns (total 15 columns):\n",
            "ADDR_PCT_CD         6133 non-null object\n",
            "BORO_NM             6133 non-null object\n",
            "CMPLNT_FR_DT        6133 non-null object\n",
            "CMPLNT_FR_TM        6133 non-null object\n",
            "CRM_ATPT_CPTD_CD    6133 non-null object\n",
            "KY_CD               6133 non-null object\n",
            "LAW_CAT_CD          6133 non-null object\n",
            "OFNS_DESC           6133 non-null object\n",
            "PD_DESC             6133 non-null object\n",
            "RPT_DT              6133 non-null object\n",
            "VIC_AGE_GROUP       6133 non-null object\n",
            "VIC_RACE            6133 non-null object\n",
            "VIC_SEX             6133 non-null object\n",
            "Latitude            6133 non-null object\n",
            "Longitude           6133 non-null object\n",
            "dtypes: object(15)\n",
            "memory usage: 926.6+ KB\n"
          ],
          "name": "stdout"
        }
      ]
    },
    {
      "cell_type": "code",
      "metadata": {
        "id": "yGUY3oXM3yL5",
        "outputId": "c43136aa-4f8f-4f00-8873-4a2702afd416"
      },
      "source": [
        "sns.countplot('LAW_CAT_CD', data=crime)"
      ],
      "execution_count": null,
      "outputs": [
        {
          "output_type": "execute_result",
          "data": {
            "text/plain": [
              "<matplotlib.axes._subplots.AxesSubplot at 0x116b4f710>"
            ]
          },
          "metadata": {
            "tags": []
          },
          "execution_count": 34
        },
        {
          "output_type": "display_data",
          "data": {
            "image/png": "[encoded data removed]",
            "text/plain": [
              "<Figure size 432x288 with 1 Axes>"
            ]
          },
          "metadata": {
            "tags": []
          }
        }
      ]
    },
    {
      "cell_type": "code",
      "metadata": {
        "scrolled": true,
        "id": "uUinWMG83yL5",
        "outputId": "6acc92a3-a4a9-4f10-acfb-06a367f0d38e"
      },
      "source": [
        "sns.countplot(x=crime['BORO_NM'],data=crime, hue=crime['LAW_CAT_CD'])"
      ],
      "execution_count": null,
      "outputs": [
        {
          "output_type": "execute_result",
          "data": {
            "text/plain": [
              "<matplotlib.axes._subplots.AxesSubplot at 0x116bad940>"
            ]
          },
          "metadata": {
            "tags": []
          },
          "execution_count": 35
        },
        {
          "output_type": "display_data",
          "data": {
            "image/png": "[encoded data removed]",
            "text/plain": [
              "<Figure size 432x288 with 1 Axes>"
            ]
          },
          "metadata": {
            "tags": []
          }
        }
      ]
    },
    {
      "cell_type": "code",
      "metadata": {
        "id": "ydX5vYvo3yL6",
        "outputId": "85209f6e-852c-4ae2-e37d-3f3d3ca904a2"
      },
      "source": [
        "crime['LAW_CAT_CD'].value_counts()"
      ],
      "execution_count": null,
      "outputs": [
        {
          "output_type": "execute_result",
          "data": {
            "text/plain": [
              "MISDEMEANOR    2816\n",
              "FELONY         2661\n",
              "VIOLATION       654\n",
              "UNKNOWN           2\n",
              "Name: LAW_CAT_CD, dtype: int64"
            ]
          },
          "metadata": {
            "tags": []
          },
          "execution_count": 36
        }
      ]
    },
    {
      "cell_type": "code",
      "metadata": {
        "scrolled": true,
        "id": "2mD-_3En3yL6",
        "outputId": "01c41ff8-420c-48af-c447-e24afa96db4a"
      },
      "source": [
        "crime['OFNS_DESC'].value_counts().head(5)"
      ],
      "execution_count": null,
      "outputs": [
        {
          "output_type": "execute_result",
          "data": {
            "text/plain": [
              "GRAND LARCENY                     1399\n",
              "PETIT LARCENY                     1191\n",
              "HARRASSMENT 2                      649\n",
              "CRIMINAL MISCHIEF & RELATED OF     574\n",
              "OFF. AGNST PUB ORD SENSBLTY &      452\n",
              "Name: OFNS_DESC, dtype: int64"
            ]
          },
          "metadata": {
            "tags": []
          },
          "execution_count": 37
        }
      ]
    },
    {
      "cell_type": "code",
      "metadata": {
        "id": "Xz8cGytL3yL6",
        "outputId": "d31509ba-b0d0-4cb8-9142-09a3a9d5fd62"
      },
      "source": [
        "sns.countplot(x='VIC_AGE_GROUP', data=crime)"
      ],
      "execution_count": null,
      "outputs": [
        {
          "output_type": "execute_result",
          "data": {
            "text/plain": [
              "<matplotlib.axes._subplots.AxesSubplot at 0x11b563e80>"
            ]
          },
          "metadata": {
            "tags": []
          },
          "execution_count": 38
        },
        {
          "output_type": "display_data",
          "data": {
            "image/png": "[encoded data removed]",
            "text/plain": [
              "<Figure size 432x288 with 1 Axes>"
            ]
          },
          "metadata": {
            "tags": []
          }
        }
      ]
    },
    {
      "cell_type": "code",
      "metadata": {
        "id": "iNMfi8aw3yL7",
        "outputId": "4cc2ec89-aa08-4c8d-d229-b8d33c56c03f"
      },
      "source": [
        "sns.countplot(x='VIC_SEX', data=crime)"
      ],
      "execution_count": null,
      "outputs": [
        {
          "output_type": "execute_result",
          "data": {
            "text/plain": [
              "<matplotlib.axes._subplots.AxesSubplot at 0x1a2643a978>"
            ]
          },
          "metadata": {
            "tags": []
          },
          "execution_count": 39
        },
        {
          "output_type": "display_data",
          "data": {
            "image/png": "[encoded data removed]",
            "text/plain": [
              "<Figure size 432x288 with 1 Axes>"
            ]
          },
          "metadata": {
            "tags": []
          }
        }
      ]
    },
    {
      "cell_type": "markdown",
      "metadata": {
        "id": "Q3ZPScuX3yL7"
      },
      "source": [
        "## Model Exploration"
      ]
    },
    {
      "cell_type": "markdown",
      "metadata": {
        "id": "s7tAkFd_3yL7"
      },
      "source": [
        "### 4.1 Model Selection\n",
        "\n",
        "For our models, we will use a neural network predict whether a crime reported took place in Brooklyn."
      ]
    },
    {
      "cell_type": "markdown",
      "metadata": {
        "id": "I2BcNJZG3yL8"
      },
      "source": [
        "### 4.2 Model Preparation"
      ]
    },
    {
      "cell_type": "code",
      "metadata": {
        "id": "a3dvXo9y3yL8",
        "outputId": "c252e02a-6e5f-4b22-ddbb-424fcf7bc8fb"
      },
      "source": [
        "crime['BORO_NM'] = crime.BORO_NM.astype('category')\n",
        "crime['VIC_SEX'] = crime.VIC_SEX.astype('category')\n",
        "crime['VIC_AGE_GROUP'] = crime.VIC_AGE_GROUP.astype('category')\n",
        "crime['VIC_RACE'] = crime.VIC_RACE.astype('category')\n",
        "crime['LAW_CAT_CD'] = crime.LAW_CAT_CD.astype('category')\n",
        "\n",
        "crime.dtypes"
      ],
      "execution_count": null,
      "outputs": [
        {
          "output_type": "execute_result",
          "data": {
            "text/plain": [
              "ADDR_PCT_CD           object\n",
              "BORO_NM             category\n",
              "CMPLNT_FR_DT          object\n",
              "CMPLNT_FR_TM          object\n",
              "CRM_ATPT_CPTD_CD      object\n",
              "KY_CD                 object\n",
              "LAW_CAT_CD          category\n",
              "OFNS_DESC             object\n",
              "PD_DESC               object\n",
              "RPT_DT                object\n",
              "VIC_AGE_GROUP       category\n",
              "VIC_RACE            category\n",
              "VIC_SEX             category\n",
              "Latitude              object\n",
              "Longitude             object\n",
              "dtype: object"
            ]
          },
          "metadata": {
            "tags": []
          },
          "execution_count": 40
        }
      ]
    },
    {
      "cell_type": "code",
      "metadata": {
        "id": "sTpYa5aO3yL8",
        "outputId": "8a35dce5-bf89-4fb6-8930-541ffd7ef739"
      },
      "source": [
        "crime['BORO_NM_CAT'] = crime['BORO_NM'].cat.codes\n",
        "crime['SEX'] = crime['VIC_SEX'].cat.codes\n",
        "crime['AGE'] = crime['VIC_AGE_GROUP'].cat.codes\n",
        "crime['RACE'] = crime['VIC_RACE'].cat.codes\n",
        "crime['CRIME_TYPE'] = crime['LAW_CAT_CD'].cat.codes\n"
      ],
      "execution_count": null,
      "outputs": [
        {
          "output_type": "execute_result",
          "data": {
            "text/html": [
              "<div>\n",
              "<style scoped>\n",
              "    .dataframe tbody tr th:only-of-type {\n",
              "        vertical-align: middle;\n",
              "    }\n",
              "\n",
              "    .dataframe tbody tr th {\n",
              "        vertical-align: top;\n",
              "    }\n",
              "\n",
              "    .dataframe thead th {\n",
              "        text-align: right;\n",
              "    }\n",
              "</style>\n",
              "<table border=\"1\" class=\"dataframe\">\n",
              "  <thead>\n",
              "    <tr style=\"text-align: right;\">\n",
              "      <th></th>\n",
              "      <th>ADDR_PCT_CD</th>\n",
              "      <th>BORO_NM</th>\n",
              "      <th>CMPLNT_FR_DT</th>\n",
              "      <th>CMPLNT_FR_TM</th>\n",
              "      <th>CRM_ATPT_CPTD_CD</th>\n",
              "      <th>KY_CD</th>\n",
              "      <th>LAW_CAT_CD</th>\n",
              "      <th>OFNS_DESC</th>\n",
              "      <th>PD_DESC</th>\n",
              "      <th>RPT_DT</th>\n",
              "      <th>VIC_AGE_GROUP</th>\n",
              "      <th>VIC_RACE</th>\n",
              "      <th>VIC_SEX</th>\n",
              "      <th>Latitude</th>\n",
              "      <th>Longitude</th>\n",
              "      <th>BORO_NM_CAT</th>\n",
              "      <th>SEX</th>\n",
              "      <th>AGE</th>\n",
              "      <th>RACE</th>\n",
              "      <th>CRIME_TYPE</th>\n",
              "    </tr>\n",
              "  </thead>\n",
              "  <tbody>\n",
              "    <tr>\n",
              "      <th>1181</th>\n",
              "      <td>49</td>\n",
              "      <td>BRONX</td>\n",
              "      <td>12/08/2017</td>\n",
              "      <td>17:00:00</td>\n",
              "      <td>COMPLETED</td>\n",
              "      <td>104</td>\n",
              "      <td>FELONY</td>\n",
              "      <td>RAPE</td>\n",
              "      <td>RAPE 1</td>\n",
              "      <td>03/31/2018</td>\n",
              "      <td>18-24</td>\n",
              "      <td>BLACK</td>\n",
              "      <td>F</td>\n",
              "      <td>40.8562</td>\n",
              "      <td>-73.8444</td>\n",
              "      <td>0</td>\n",
              "      <td>2</td>\n",
              "      <td>0</td>\n",
              "      <td>2</td>\n",
              "      <td>0</td>\n",
              "    </tr>\n",
              "    <tr>\n",
              "      <th>1182</th>\n",
              "      <td>115</td>\n",
              "      <td>QUEENS</td>\n",
              "      <td>12/01/2017</td>\n",
              "      <td>00:00:00</td>\n",
              "      <td>COMPLETED</td>\n",
              "      <td>578</td>\n",
              "      <td>VIOLATION</td>\n",
              "      <td>HARRASSMENT 2</td>\n",
              "      <td>HARASSMENT,SUBD 3,4,5</td>\n",
              "      <td>03/31/2018</td>\n",
              "      <td>45-64</td>\n",
              "      <td>WHITE HISPANIC</td>\n",
              "      <td>M</td>\n",
              "      <td>40.7509</td>\n",
              "      <td>-73.8836</td>\n",
              "      <td>3</td>\n",
              "      <td>3</td>\n",
              "      <td>2</td>\n",
              "      <td>6</td>\n",
              "      <td>3</td>\n",
              "    </tr>\n",
              "    <tr>\n",
              "      <th>1183</th>\n",
              "      <td>68</td>\n",
              "      <td>BROOKLYN</td>\n",
              "      <td>11/27/2017</td>\n",
              "      <td>09:00:00</td>\n",
              "      <td>COMPLETED</td>\n",
              "      <td>341</td>\n",
              "      <td>MISDEMEANOR</td>\n",
              "      <td>PETIT LARCENY</td>\n",
              "      <td>LARCENY,PETIT FROM BUILDING,UN</td>\n",
              "      <td>03/31/2018</td>\n",
              "      <td>65+</td>\n",
              "      <td>WHITE</td>\n",
              "      <td>F</td>\n",
              "      <td>40.6231</td>\n",
              "      <td>-74.0327</td>\n",
              "      <td>1</td>\n",
              "      <td>2</td>\n",
              "      <td>3</td>\n",
              "      <td>5</td>\n",
              "      <td>1</td>\n",
              "    </tr>\n",
              "    <tr>\n",
              "      <th>1184</th>\n",
              "      <td>114</td>\n",
              "      <td>QUEENS</td>\n",
              "      <td>11/04/2017</td>\n",
              "      <td>10:30:00</td>\n",
              "      <td>COMPLETED</td>\n",
              "      <td>344</td>\n",
              "      <td>MISDEMEANOR</td>\n",
              "      <td>ASSAULT 3 &amp; RELATED OFFENSES</td>\n",
              "      <td>MENACING,UNCLASSIFIED</td>\n",
              "      <td>03/31/2018</td>\n",
              "      <td>25-44</td>\n",
              "      <td>UNKNOWN</td>\n",
              "      <td>M</td>\n",
              "      <td>40.7563</td>\n",
              "      <td>-73.9223</td>\n",
              "      <td>3</td>\n",
              "      <td>3</td>\n",
              "      <td>1</td>\n",
              "      <td>4</td>\n",
              "      <td>1</td>\n",
              "    </tr>\n",
              "    <tr>\n",
              "      <th>1185</th>\n",
              "      <td>47</td>\n",
              "      <td>BRONX</td>\n",
              "      <td>11/01/2017</td>\n",
              "      <td>09:00:00</td>\n",
              "      <td>COMPLETED</td>\n",
              "      <td>578</td>\n",
              "      <td>VIOLATION</td>\n",
              "      <td>HARRASSMENT 2</td>\n",
              "      <td>HARASSMENT,SUBD 3,4,5</td>\n",
              "      <td>03/31/2018</td>\n",
              "      <td>45-64</td>\n",
              "      <td>WHITE HISPANIC</td>\n",
              "      <td>F</td>\n",
              "      <td>40.8962</td>\n",
              "      <td>-73.8548</td>\n",
              "      <td>0</td>\n",
              "      <td>2</td>\n",
              "      <td>2</td>\n",
              "      <td>6</td>\n",
              "      <td>3</td>\n",
              "    </tr>\n",
              "  </tbody>\n",
              "</table>\n",
              "</div>"
            ],
            "text/plain": [
              "     ADDR_PCT_CD   BORO_NM CMPLNT_FR_DT CMPLNT_FR_TM CRM_ATPT_CPTD_CD KY_CD  \\\n",
              "1181          49     BRONX   12/08/2017     17:00:00        COMPLETED   104   \n",
              "1182         115    QUEENS   12/01/2017     00:00:00        COMPLETED   578   \n",
              "1183          68  BROOKLYN   11/27/2017     09:00:00        COMPLETED   341   \n",
              "1184         114    QUEENS   11/04/2017     10:30:00        COMPLETED   344   \n",
              "1185          47     BRONX   11/01/2017     09:00:00        COMPLETED   578   \n",
              "\n",
              "       LAW_CAT_CD                     OFNS_DESC  \\\n",
              "1181       FELONY                          RAPE   \n",
              "1182    VIOLATION                 HARRASSMENT 2   \n",
              "1183  MISDEMEANOR                 PETIT LARCENY   \n",
              "1184  MISDEMEANOR  ASSAULT 3 & RELATED OFFENSES   \n",
              "1185    VIOLATION                 HARRASSMENT 2   \n",
              "\n",
              "                             PD_DESC      RPT_DT VIC_AGE_GROUP  \\\n",
              "1181                          RAPE 1  03/31/2018         18-24   \n",
              "1182           HARASSMENT,SUBD 3,4,5  03/31/2018         45-64   \n",
              "1183  LARCENY,PETIT FROM BUILDING,UN  03/31/2018           65+   \n",
              "1184           MENACING,UNCLASSIFIED  03/31/2018         25-44   \n",
              "1185           HARASSMENT,SUBD 3,4,5  03/31/2018         45-64   \n",
              "\n",
              "            VIC_RACE VIC_SEX Latitude Longitude  BORO_NM_CAT  SEX  AGE  RACE  \\\n",
              "1181           BLACK       F  40.8562  -73.8444            0    2    0     2   \n",
              "1182  WHITE HISPANIC       M  40.7509  -73.8836            3    3    2     6   \n",
              "1183           WHITE       F  40.6231  -74.0327            1    2    3     5   \n",
              "1184         UNKNOWN       M  40.7563  -73.9223            3    3    1     4   \n",
              "1185  WHITE HISPANIC       F  40.8962  -73.8548            0    2    2     6   \n",
              "\n",
              "      CRIME_TYPE  \n",
              "1181           0  \n",
              "1182           3  \n",
              "1183           1  \n",
              "1184           1  \n",
              "1185           3  "
            ]
          },
          "metadata": {
            "tags": []
          },
          "execution_count": 41
        }
      ]
    },
    {
      "cell_type": "code",
      "metadata": {
        "id": "oJPxh0HH3yL9"
      },
      "source": [
        "#If borough is Brooklyn -> 1, otherwise 0\n",
        "def define_boro(b):\n",
        "    if b == 1:\n",
        "        return 1\n",
        "    else:\n",
        "        return 0"
      ],
      "execution_count": null,
      "outputs": []
    },
    {
      "cell_type": "code",
      "metadata": {
        "id": "slF3xU8g3yL9"
      },
      "source": [
        "crime['BORO_NM_CAT'] = crime['BORO_NM_CAT'].apply(define_boro)"
      ],
      "execution_count": null,
      "outputs": []
    },
    {
      "cell_type": "markdown",
      "metadata": {
        "id": "2eGgny0c3yL9"
      },
      "source": [
        "### 4.3 Training with a Neural Network"
      ]
    },
    {
      "cell_type": "code",
      "metadata": {
        "id": "Rvfw2tMG3yL9"
      },
      "source": [
        "from sklearn.model_selection import train_test_split"
      ],
      "execution_count": null,
      "outputs": []
    },
    {
      "cell_type": "code",
      "metadata": {
        "id": "dWxo9mQ13yL-"
      },
      "source": [
        "features = crime[['SEX', 'AGE', 'RACE', 'CRIME_TYPE']]\n",
        "target = crime['BORO_NM_CAT']\n",
        "\n",
        "X_train, X_test, y_train, y_test = train_test_split(features, \n",
        "                                                    target, \n",
        "                                                    test_size=0.2,\n",
        "                                                    random_state=42)\n",
        "\n",
        "model = tf.keras.models.Sequential([\n",
        "  tf.keras.layers.Dense(512, activation=tf.nn.relu6),\n",
        "  tf.keras.layers.Dropout(0.5),\n",
        "  tf.keras.layers.Dense(100, activation=tf.nn.relu),\n",
        "  tf.keras.layers.Dense(50, activation=tf.nn.softmax)\n",
        "])\n",
        "model.compile(optimizer='adam',\n",
        "              loss='sparse_categorical_crossentropy',\n",
        "              metrics=['accuracy'])"
      ],
      "execution_count": null,
      "outputs": []
    },
    {
      "cell_type": "code",
      "metadata": {
        "id": "-Z8Rfjte3yL-",
        "outputId": "fc27cc2b-d4e5-4cf2-b251-9b0867589c0e"
      },
      "source": [
        "model.fit(X_train.values, y_train.values, epochs=5)\n",
        "model.evaluate(X_test, y_test)"
      ],
      "execution_count": null,
      "outputs": [
        {
          "output_type": "stream",
          "text": [
            "Epoch 1/5\n",
            "4906/4906 [==============================] - 1s 252us/step - loss: 0.7470 - acc: 0.6949\n",
            "Epoch 2/5\n",
            "4906/4906 [==============================] - 0s 59us/step - loss: 0.6142 - acc: 0.7071\n",
            "Epoch 3/5\n",
            "4906/4906 [==============================] - 0s 58us/step - loss: 0.6048 - acc: 0.7132\n",
            "Epoch 4/5\n",
            "4906/4906 [==============================] - 0s 56us/step - loss: 0.5946 - acc: 0.7142\n",
            "Epoch 5/5\n",
            "4906/4906 [==============================] - 0s 57us/step - loss: 0.5923 - acc: 0.7132\n",
            "1227/1227 [==============================] - 0s 270us/step\n"
          ],
          "name": "stdout"
        },
        {
          "output_type": "execute_result",
          "data": {
            "text/plain": [
              "[0.5763245938071023, 0.7245313772945358]"
            ]
          },
          "metadata": {
            "tags": []
          },
          "execution_count": 154
        }
      ]
    },
    {
      "cell_type": "markdown",
      "metadata": {
        "id": "vNemGR2o3yL-"
      },
      "source": [
        "One-hot encoding the Borough feature increased the accuracy by 40%, but there seems to be a point where adding layers does nothing to improve the accuracy. Thus, it would be pertinent to further clean the data and utilize other features for this classification problem. \n",
        "\n",
        "Overall, this dataset may not be the best for classification problems because a lot of features must be label-encoded or one-hot encoded; for datasets with features that have binary values or a few different values (like the five borough), this isn't much of a problem. However, for features such as the law category, there are numerous values that the neural network could miscontrue as having some deeper numerical meaning beyond just being label encoding."
      ]
    }
  ]
}